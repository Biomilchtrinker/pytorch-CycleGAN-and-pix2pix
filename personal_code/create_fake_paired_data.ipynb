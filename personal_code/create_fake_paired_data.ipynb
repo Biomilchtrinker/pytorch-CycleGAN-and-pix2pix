{
 "cells": [
  {
   "cell_type": "code",
   "execution_count": 18,
   "metadata": {},
   "outputs": [
    {
     "name": "stdout",
     "output_type": "stream",
     "text": [
      "Ready for metrics: (1592, 1576, 1) (1592, 1576, 1)\n"
     ]
    },
    {
     "name": "stderr",
     "output_type": "stream",
     "text": [
      "c:\\Users\\olive\\AppData\\Local\\Programs\\Python\\Python310\\lib\\site-packages\\image_similarity_measures\\quality_metrics.py:171: RuntimeWarning: divide by zero encountered in log2\n",
      "  return -np.sum(np.nan_to_num(H * np.log2(H)))\n",
      "c:\\Users\\olive\\AppData\\Local\\Programs\\Python\\Python310\\lib\\site-packages\\image_similarity_measures\\quality_metrics.py:171: RuntimeWarning: invalid value encountered in multiply\n",
      "  return -np.sum(np.nan_to_num(H * np.log2(H)))\n",
      "c:\\Users\\olive\\AppData\\Local\\Programs\\Python\\Python310\\lib\\site-packages\\image_similarity_measures\\quality_metrics.py:188: RuntimeWarning: invalid value encountered in scalar divide\n",
      "  return numerator / denominator\n",
      "c:\\Users\\olive\\AppData\\Local\\Programs\\Python\\Python310\\lib\\site-packages\\image_similarity_measures\\quality_metrics.py:297: RuntimeWarning: invalid value encountered in divide\n",
      "  val = np.clip(numerator / denominator, -1, 1)\n",
      "c:\\Users\\olive\\AppData\\Local\\Programs\\Python\\Python310\\lib\\site-packages\\image_similarity_measures\\quality_metrics.py:276: RuntimeWarning: invalid value encountered in divide\n",
      "  q = np.nan_to_num(numerator / denominator)\n"
     ]
    },
    {
     "name": "stdout",
     "output_type": "stream",
     "text": [
      "Ready for metrics: (1592, 1576, 1) (1592, 1576, 1)\n",
      "Ready for metrics: (1592, 1576, 1) (1592, 1576, 1)\n",
      "Ready for metrics: (1592, 1576, 1) (1592, 1576, 1)\n",
      "Ready for metrics: (1592, 1576, 1) (1592, 1576, 1)\n",
      "CT Image: Th24_PbRB-90kV-2-_rec00000338.tif is paired with Histology Image: ts19_EMA65_s05r01s05.jpg\n",
      "Metrics: {'rmse': 0.04073031, 'psnr': 27.801644128952386, 'ssim': 0.5098097678117669, 'fsim': 0.28414267622880846, 'issm': 0.0, 'sre': 44.03528460258389, 'sam': 0.0, 'uiq': 0.00023106853096102102}\n"
     ]
    }
   ],
   "source": [
    "import os\n",
    "import cv2\n",
    "import numpy as np\n",
    "from image_similarity_measures.quality_metrics import rmse, psnr, ssim, fsim, issm, sre, sam, uiq\n",
    "from shutil import copyfile\n",
    "\n",
    "# Paths\n",
    "ct_path = \"./example_CT_images/\"\n",
    "histology_path = \"./example_Hist_images/\"\n",
    "paired_path = \"./example_Paired_Images/\"\n",
    "\n",
    "# Ensure the paired images directory exists\n",
    "if not os.path.exists(paired_path):\n",
    "    os.makedirs(paired_path)\n",
    "\n",
    "# Function to calculate all similarity measures\n",
    "def calculate_similarity_metrics(img1, img2):\n",
    "    # Ensure both images are (X, Y, 1)\n",
    "    if len(img1.shape) == 2:\n",
    "        img1 = np.expand_dims(img1, axis=-1)\n",
    "    if len(img2.shape) == 2:\n",
    "        img2 = np.expand_dims(img2, axis=-1)\n",
    "\n",
    "    if img1.shape != img2.shape:\n",
    "        raise ValueError(f\"Image shapes are not the same: {img1.shape} vs {img2.shape}\")\n",
    "\n",
    "    print(\"Ready for metrics:\", img1.shape, img2.shape)\n",
    "    metrics = {\n",
    "        'rmse': rmse(img1, img2),\n",
    "        'psnr': psnr(img1, img2),\n",
    "        'ssim': ssim(img1, img2),\n",
    "        'fsim': fsim(img1, img2),\n",
    "        'issm': issm(img1, img2),\n",
    "        'sre': sre(img1, img2),\n",
    "        'sam': sam(img1, img2),\n",
    "        'uiq': uiq(img1, img2)\n",
    "    }\n",
    "    return metrics\n",
    "\n",
    "# Function to find the best match\n",
    "def find_best_match(ct_image, histology_images):\n",
    "    best_match = None\n",
    "    best_score = float('inf')\n",
    "    best_metrics = None\n",
    "\n",
    "    for hist_image_path in histology_images:\n",
    "        hist_img = cv2.imread(hist_image_path)\n",
    "        hist_img_gray = cv2.cvtColor(hist_img, cv2.COLOR_BGR2GRAY)\n",
    "        resized_hist_img = cv2.resize(hist_img_gray, (ct_image.shape[1], ct_image.shape[0]))  # Resize to match CT image dimensions\n",
    "\n",
    "        metrics = calculate_similarity_metrics(ct_image, resized_hist_img)\n",
    "        avg_score = np.mean(list(metrics.values()))  # Average of all metric scores\n",
    "\n",
    "        if avg_score < best_score:\n",
    "            best_score = avg_score\n",
    "            best_match = hist_image_path\n",
    "            best_metrics = metrics\n",
    "\n",
    "    return best_match, best_metrics\n",
    "\n",
    "# Function to pair images\n",
    "def pair_images(ct_images, histology_images):\n",
    "    for ct_image_path in ct_images:\n",
    "        ct_img = cv2.imread(ct_image_path, cv2.IMREAD_GRAYSCALE)\n",
    "        if len(ct_img.shape) == 2:\n",
    "            ct_img = np.expand_dims(ct_img, axis=-1)  # Ensure the image is (X, Y, 1)\n",
    "        best_match, best_metrics = find_best_match(ct_img, histology_images)\n",
    "\n",
    "        if best_match:\n",
    "            # Copy the best matched images to the paired directory\n",
    "            ct_image_name = os.path.basename(ct_image_path)\n",
    "            hist_image_name = os.path.basename(best_match)\n",
    "\n",
    "            paired_ct_path = os.path.join(paired_path, f\"paired_ct_{ct_image_name}\")\n",
    "            paired_hist_path = os.path.join(paired_path, f\"paired_hist_{hist_image_name}\")\n",
    "\n",
    "            copyfile(ct_image_path, paired_ct_path)\n",
    "            copyfile(best_match, paired_hist_path)\n",
    "\n",
    "            print(f\"CT Image: {ct_image_name} is paired with Histology Image: {hist_image_name}\")\n",
    "            print(f\"Metrics: {best_metrics}\")\n",
    "        else:\n",
    "            print(f\"No suitable match found for CT Image: {ct_image_path}\")\n",
    "\n",
    "# List all CT and Histology images\n",
    "def list_images(ct_path, histology_path):\n",
    "    ct_images = [os.path.join(ct_path, img) for img in os.listdir(ct_path) if img.endswith('.tif')]\n",
    "    histology_images = [os.path.join(histology_path, img) for img in os.listdir(histology_path) if img.endswith('.jpg')]\n",
    "    return ct_images, histology_images\n",
    "\n",
    "# Execute the steps in the notebook\n",
    "ct_images, histology_images = list_images(ct_path, histology_path)\n",
    "pair_images(ct_images, histology_images)\n"
   ]
  },
  {
   "cell_type": "code",
   "execution_count": null,
   "metadata": {},
   "outputs": [],
   "source": []
  }
 ],
 "metadata": {
  "kernelspec": {
   "display_name": "Python 3",
   "language": "python",
   "name": "python3"
  },
  "language_info": {
   "codemirror_mode": {
    "name": "ipython",
    "version": 3
   },
   "file_extension": ".py",
   "mimetype": "text/x-python",
   "name": "python",
   "nbconvert_exporter": "python",
   "pygments_lexer": "ipython3",
   "version": "3.10.0"
  }
 },
 "nbformat": 4,
 "nbformat_minor": 2
}
